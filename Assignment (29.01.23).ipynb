{
 "cells": [
  {
   "cell_type": "markdown",
   "id": "4fe1ad81-797d-4b67-9d48-b7e3cf7857d0",
   "metadata": {
    "tags": []
   },
   "source": [
    " 1] \n",
    "Who developed Python Programming Language?"
   ]
  },
  {
   "cell_type": "markdown",
   "id": "206ee5eb-1c85-4986-befa-7a47a603c1da",
   "metadata": {},
   "source": [
    "Ans : Guido van Rossum"
   ]
  },
  {
   "cell_type": "markdown",
   "id": "d992fa18-b8b7-4702-85e2-64c62d889b22",
   "metadata": {
    "tags": []
   },
   "source": [
    " 2] Which type of Programming does Python support\n",
    "?"
   ]
  },
  {
   "cell_type": "markdown",
   "id": "0fee7814-0d91-4721-b690-e86ab2e8acc4",
   "metadata": {},
   "source": [
    "Ans : Object-oriented, Structured, and Functional programming."
   ]
  },
  {
   "cell_type": "markdown",
   "id": "80ae7c4b-1dda-49c3-b767-63f67c44c85a",
   "metadata": {
    "tags": []
   },
   "source": [
    " 3] Is Python is case sensitive when dealing with identifiers?"
   ]
  },
  {
   "cell_type": "markdown",
   "id": "3dc8421f-91e3-4aba-8048-2f5ead7d218d",
   "metadata": {},
   "source": [
    "Ans : Yes, Python is a case-sensitive language,it treats uppercase and lowercase characters differently"
   ]
  },
  {
   "cell_type": "markdown",
   "id": "b8909b26-6df2-4ba8-9b0e-475d3b519e06",
   "metadata": {
    "tags": []
   },
   "source": [
    " 4] What is the correct extention of the Python file?"
   ]
  },
  {
   "cell_type": "markdown",
   "id": "5fadfde6-b08d-420e-9bff-75f75fe3270a",
   "metadata": {},
   "source": [
    "Ans : Python code file comes with \".py\" extention"
   ]
  },
  {
   "cell_type": "markdown",
   "id": "1031415c-df0d-4300-b91f-9b7b709dc7eb",
   "metadata": {
    "tags": []
   },
   "source": [
    " 5] Is Python code is Compiled of Interpreted?"
   ]
  },
  {
   "cell_type": "markdown",
   "id": "4cd2d851-7629-4581-a4c7-e83f051cdd0b",
   "metadata": {},
   "source": [
    "Ans : Python is an interpreted language, which means the source code of a Python program is converted into bytecode , then executed by the Python virtual machine. Python is different from major compiled languages, such as C and C + +, as Python code is not required to be built and linked , like code for these languages"
   ]
  },
  {
   "cell_type": "markdown",
   "id": "2a53cd4b-ed56-41f5-9d18-9b9062237c15",
   "metadata": {
    "tags": []
   },
   "source": [
    " 6] Name few blocks of code used to define in Python Language?"
   ]
  },
  {
   "cell_type": "markdown",
   "id": "ad9ba223-f41b-4ec7-9aa4-136e1726a87c",
   "metadata": {},
   "source": [
    "Ans : Functions & Class"
   ]
  },
  {
   "cell_type": "markdown",
   "id": "4ad04033-1616-415f-8268-f68affd93f89",
   "metadata": {
    "tags": []
   },
   "source": [
    " 7] State a character used to give single-line comments in Python?"
   ]
  },
  {
   "cell_type": "markdown",
   "id": "72739e46-2c46-4c54-9262-42a5aa884c45",
   "metadata": {},
   "source": [
    "Ans : Hash \" # \""
   ]
  },
  {
   "cell_type": "markdown",
   "id": "447f1321-4601-4a14-ab4b-57d3a9b32379",
   "metadata": {},
   "source": [
    "8] Mention functions which can help us to find the version of python that we are currently working on?"
   ]
  },
  {
   "cell_type": "markdown",
   "id": "4a7aa6db-548f-4de2-aa76-796634d6f0ce",
   "metadata": {},
   "source": [
    "Ans : sys.version"
   ]
  },
  {
   "cell_type": "markdown",
   "id": "64d8fcb4-6821-4dd8-845c-644d08ca7f5f",
   "metadata": {},
   "source": [
    "9] Pyhton supports the creations of anonymous functions at runtime , using a construct called __________"
   ]
  },
  {
   "cell_type": "markdown",
   "id": "2c5a199a-8c72-48f8-beba-d9ab0e7bfba1",
   "metadata": {},
   "source": [
    "Ans : lambada"
   ]
  },
  {
   "cell_type": "markdown",
   "id": "df557e82-8d84-4399-8a97-fe6791935fac",
   "metadata": {},
   "source": [
    "10] What does pip stands for?"
   ]
  },
  {
   "cell_type": "markdown",
   "id": "13e28f27-a676-484f-9b28-bfae0c3c4384",
   "metadata": {},
   "source": [
    "Ans: Preferred Installer Program. It is a Pakage Manageer. "
   ]
  },
  {
   "cell_type": "markdown",
   "id": "37bc01cb-f6d0-4e28-81bd-858a97aaf43f",
   "metadata": {},
   "source": [
    "11] Mention a few in-build functions in python?"
   ]
  },
  {
   "cell_type": "markdown",
   "id": "e5a59b3b-743d-4aa1-8e7c-b746c432179c",
   "metadata": {},
   "source": [
    "Ans: int(),float(),len(),list(),print(),str(),type(),set(),zip()"
   ]
  },
  {
   "cell_type": "markdown",
   "id": "db3c8cf7-c5f1-4354-b3fb-e2b6b3d6d52f",
   "metadata": {},
   "source": [
    "12] What is maximum possible length of an identifier in python?"
   ]
  },
  {
   "cell_type": "markdown",
   "id": "63d3fee6-29ed-4d50-be00-7be09f7f7373",
   "metadata": {},
   "source": [
    "Ans: 79 Character"
   ]
  },
  {
   "cell_type": "markdown",
   "id": "543ef562-c185-4ccc-a291-68ddd08cc2ef",
   "metadata": {},
   "source": [
    "13] Whst are the benefits of using Python?"
   ]
  },
  {
   "cell_type": "markdown",
   "id": "0b0f0d66-a5f1-4106-b256-391ee4106b78",
   "metadata": {},
   "source": [
    "Ans: \n",
    "Data science.\n",
    "Scientific and mathematical computing.\n",
    "Web development.\n",
    "Finance and trading.\n",
    "System automation and administration.\n",
    "Computer graphics.\n",
    "Basic game development.\n",
    "Security and penetration testing."
   ]
  },
  {
   "cell_type": "markdown",
   "id": "50b3fa09-0a69-4aae-b55f-ffb53d781618",
   "metadata": {},
   "source": [
    "14] How is memory is managed in python?"
   ]
  },
  {
   "cell_type": "markdown",
   "id": "d9a5ec0f-c5de-4e7b-a7f6-d6ffb6ab44f4",
   "metadata": {},
   "source": [
    "Ans: Memory in Python is managed by Python private heap(Variable in Class) space. All Python objects and data structures are located in a private heap. This private heap is taken care of by Python Interpreter itself, and a programmer doesn't have access to this private heap."
   ]
  },
  {
   "cell_type": "markdown",
   "id": "87a8c0f4-9568-4261-bc66-18a860eb667d",
   "metadata": {},
   "source": [
    "15] How to install python on windows and set path variables?"
   ]
  },
  {
   "cell_type": "markdown",
   "id": "c3b47c46-159b-4006-ab9c-71c646c71671",
   "metadata": {},
   "source": [
    "Ans: ?"
   ]
  },
  {
   "cell_type": "markdown",
   "id": "831c63c2-d380-4602-aa01-d0e77716ee4c",
   "metadata": {},
   "source": [
    "16] Is indentation is required in python?"
   ]
  },
  {
   "cell_type": "markdown",
   "id": "d097b0b4-750e-4026-9062-c96b7876c366",
   "metadata": {},
   "source": [
    "Ans: Yes"
   ]
  },
  {
   "cell_type": "code",
   "execution_count": null,
   "id": "e376f05d-1e25-4954-8d89-35ad35dca134",
   "metadata": {},
   "outputs": [],
   "source": []
  }
 ],
 "metadata": {
  "kernelspec": {
   "display_name": "Python 3 (ipykernel)",
   "language": "python",
   "name": "python3"
  },
  "language_info": {
   "codemirror_mode": {
    "name": "ipython",
    "version": 3
   },
   "file_extension": ".py",
   "mimetype": "text/x-python",
   "name": "python",
   "nbconvert_exporter": "python",
   "pygments_lexer": "ipython3",
   "version": "3.10.8"
  }
 },
 "nbformat": 4,
 "nbformat_minor": 5
}
