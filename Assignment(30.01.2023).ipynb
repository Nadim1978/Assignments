{
 "cells": [
  {
   "cell_type": "markdown",
   "id": "ddfda52b-e1ee-4922-bc8b-a4b03100b943",
   "metadata": {},
   "source": [
    "1] Write a Programm to accept percentage from the user and display the grade according to the following criteria:"
   ]
  },
  {
   "cell_type": "code",
   "execution_count": 12,
   "id": "5ffd41a0-c737-434d-8c0d-a618774f9218",
   "metadata": {},
   "outputs": [
    {
     "name": "stdin",
     "output_type": "stream",
     "text": [
      "Enter Nummber : 60\n"
     ]
    },
    {
     "name": "stdout",
     "output_type": "stream",
     "text": [
      "Your Grade is C\n"
     ]
    }
   ],
   "source": [
    "n = int(input(\"Enter Nummber :\" ))\n",
    "\n",
    "if n>90 :\n",
    "    print(\"Your Grade is A\")\n",
    "elif n>80 and n <90:\n",
    "    print(\"Your Grade is B\")\n",
    "elif n>=60 and n<=80:\n",
    "    print(\"Your Grade is C\")\n",
    "else :\n",
    "    print(\"Your Grade is D\")"
   ]
  },
  {
   "cell_type": "markdown",
   "id": "4fa7c6e2-a0c0-47ef-811f-2b0f6ea53d2f",
   "metadata": {},
   "source": [
    "2] Write a Programm to accept the cost price of a bike and display the raod tax to be paid according to the Criteria:"
   ]
  },
  {
   "cell_type": "code",
   "execution_count": 16,
   "id": "f4789fe2-37c3-466d-b72a-7d802e0c9023",
   "metadata": {},
   "outputs": [
    {
     "name": "stdin",
     "output_type": "stream",
     "text": [
      "Enter Cost Price of your Bike : 125000\n"
     ]
    },
    {
     "name": "stdout",
     "output_type": "stream",
     "text": [
      "Road Tax is 15%\n"
     ]
    }
   ],
   "source": [
    "n = int(input(\"Enter Cost Price of your Bike :\" ))\n",
    "\n",
    "if n>100000 :\n",
    "    print(\"Road Tax is 15%\")\n",
    "elif n>50000 and n <=100000:\n",
    "    print(\"Road Tax is 10%\")\n",
    "else :\n",
    "    print(\"Road Tax is 5%\")"
   ]
  },
  {
   "cell_type": "markdown",
   "id": "04de072a-d888-4c4b-9368-ba66383bae5a",
   "metadata": {},
   "source": [
    "3] Accept any city from the user and display monuments of that city"
   ]
  },
  {
   "cell_type": "code",
   "execution_count": 24,
   "id": "6907c4f7-8394-4a76-a7be-010c5fe1a4cb",
   "metadata": {},
   "outputs": [
    {
     "name": "stdin",
     "output_type": "stream",
     "text": [
      "Enter City Name : Mumbai\n"
     ]
    },
    {
     "name": "stdout",
     "output_type": "stream",
     "text": [
      "Your City has no Famous Monument\n"
     ]
    }
   ],
   "source": [
    "n = input(\"Enter City Name :\" )\n",
    "n=n.upper()\n",
    "if n==\"DELHI\" :\n",
    "    print(\"Famous monument of Delhi is Red Fort\")\n",
    "elif n==\"AGRA\":\n",
    "    print(\"Famous monument of Agra is Taj Mahal\")\n",
    "elif n==\"JAIPUR\":\n",
    "    print(\"Famous monument of Jaipur is Jal Mahal\")\n",
    "else :\n",
    "    print(\"Your City has no Famous Monument\")\n"
   ]
  },
  {
   "cell_type": "markdown",
   "id": "e30c778b-fe0d-4e64-9e8a-d5286b094314",
   "metadata": {
    "tags": []
   },
   "source": [
    "#### 4] Check how many times a given number can be divided by 3 before it is less than or equal to 10"
   ]
  },
  {
   "cell_type": "code",
   "execution_count": null,
   "id": "22bd71cb-a619-454b-9715-22ce42ce77aa",
   "metadata": {},
   "outputs": [
    {
     "name": "stdin",
     "output_type": "stream",
     "text": [
      "Enter Nummber : 50\n"
     ]
    },
    {
     "name": "stdout",
     "output_type": "stream",
     "text": [
      "2\n"
     ]
    }
   ],
   "source": [
    "n = int(input(\"Enter Nummber :\" ))\n",
    "count = 0\n",
    "while n > 10:\n",
    "    n = n / 3\n",
    "    count += 1\n",
    "\n",
    "print(count)"
   ]
  },
  {
   "cell_type": "markdown",
   "id": "02b53064-850b-4423-a254-e7d8dd23d31f",
   "metadata": {
    "tags": []
   },
   "source": [
    "#### 5] Why and When to use while loop in Python give a detailed description with example? "
   ]
  },
  {
   "cell_type": "markdown",
   "id": "1922c3d7-70da-4507-81ba-290abb876d97",
   "metadata": {},
   "source": [
    "'''Ans: while loops in Python are used when you need to repeat a block of code as long as a certain condition is true.\n",
    "        It continues to execute the code block as long as the condition is True, and stops once the condition becomes False.'''\n",
    "\n",
    "Example : \n",
    "    count = 0\n",
    "    while count < 5:\n",
    "        print(count)\n",
    "        count += 1\n",
    "        \n",
    "'''In this example, the while loop starts by setting the count variable to 0. \n",
    "   The condition count < 5 is then checked. \n",
    "   If it is True, the code block inside the loop is executed and count is incremented by 1. \n",
    "   The loop repeats until count becomes 5, at which point the condition count < 5 becomes False and the loop stops.'''"
   ]
  },
  {
   "cell_type": "markdown",
   "id": "2588bf6f-3380-47c1-a0c7-a88337d4435f",
   "metadata": {
    "tags": []
   },
   "source": [
    "#### 5] Use Nested while loop to print 3 diffrent patterns "
   ]
  },
  {
   "cell_type": "code",
   "execution_count": null,
   "id": "a3db493e-d8d5-4ec9-abe2-908ce3ac544a",
   "metadata": {},
   "outputs": [],
   "source": []
  },
  {
   "cell_type": "markdown",
   "id": "a26a5dcc-2dab-4c3d-8c32-d4297a09ef14",
   "metadata": {
    "tags": []
   },
   "source": [
    "#### 6] Reverse a while loop to display numbers from 10 to 1"
   ]
  },
  {
   "cell_type": "code",
   "execution_count": 35,
   "id": "edb1b90a-abcb-4d7e-a425-8cadf1c6e6e1",
   "metadata": {},
   "outputs": [
    {
     "name": "stdout",
     "output_type": "stream",
     "text": [
      "10\n",
      "9\n",
      "8\n",
      "7\n",
      "6\n",
      "5\n",
      "4\n",
      "3\n",
      "2\n",
      "1\n"
     ]
    }
   ],
   "source": [
    "count = 10\n",
    "while count > 0:\n",
    "    print(count)\n",
    "    count -= 1"
   ]
  },
  {
   "cell_type": "code",
   "execution_count": null,
   "id": "fb5861fc-5fa0-4cf1-af5a-2f951ef08347",
   "metadata": {},
   "outputs": [],
   "source": []
  }
 ],
 "metadata": {
  "kernelspec": {
   "display_name": "Python 3 (ipykernel)",
   "language": "python",
   "name": "python3"
  },
  "language_info": {
   "codemirror_mode": {
    "name": "ipython",
    "version": 3
   },
   "file_extension": ".py",
   "mimetype": "text/x-python",
   "name": "python",
   "nbconvert_exporter": "python",
   "pygments_lexer": "ipython3",
   "version": "3.10.8"
  }
 },
 "nbformat": 4,
 "nbformat_minor": 5
}
